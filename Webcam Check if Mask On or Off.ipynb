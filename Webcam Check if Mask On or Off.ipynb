{
 "cells": [
  {
   "cell_type": "code",
   "execution_count": null,
   "metadata": {},
   "outputs": [],
   "source": [
    "pip install --upgrade tensorflow"
   ]
  },
  {
   "cell_type": "code",
   "execution_count": null,
   "metadata": {},
   "outputs": [],
   "source": [
    "pip install --upgrade keras"
   ]
  },
  {
   "cell_type": "code",
   "execution_count": 3,
   "metadata": {},
   "outputs": [],
   "source": [
    "import tensorflow as tf\n",
    "from tensorflow.keras.models import load_model\n",
    "import cv2\n",
    "import numpy as np\n",
    "import smtplib\n",
    "\n",
    "model=load_model('trained_facemask.h5')\n",
    "face_det_classifier=cv2.CascadeClassifier(cv2.data.haarcascades + 'haarcascade_frontalface_default.xml')\n",
    "cap = cv2.VideoCapture(0)\n",
    "text_dict={0:'Mask ON',1:'Mask OFF'}\n",
    "rect_color_dict={0:(0,255,0),1:(0,0,255)}\n",
    "\n",
    "# SUBJECT=\"Subject\"\n",
    "# TEXT=\"ACCESS DENIED\"\n",
    "\n",
    "if not cap.isOpened():\n",
    "    raise IOError(\"Cannot open webcam\")\n",
    "\n",
    "while(True):\n",
    "    ret, img = cap.read()\n",
    "    grayscale_img=cv2.cvtColor(img,cv2.COLOR_BGR2GRAY)\n",
    "    faces=face_det_classifier.detectMultiScale(grayscale_img,1.3,5)\n",
    "    for(x,y,w,h) in faces:\n",
    "        face_img=grayscale_img[y:y+w,x:x+w]\n",
    "        #resized_img=cv2.resize(face_img,(112,112),fx=0.5,fy=0.5,interpolation=cv2.INTER_AREA)\n",
    "        try:\n",
    "            resized_img=cv2.resize(face_img,(112,112),fx=0.5,fy=0.5,interpolation=cv2.INTER_AREA)\n",
    "        except Exception as e:\n",
    "            print(str(e))\n",
    "        normalized_img=resized_img/255.0\n",
    "        reshaped_img=np.reshape(normalized_img,(1,112,112,1))\n",
    "        result=model.predict(reshaped_img)\n",
    "        label=np.argmax(result,axis=1)[0]\n",
    "        cv2.rectangle(img,(x,y),(x+w,y+h),rect_color_dict[label],2)\n",
    "        cv2.rectangle(img,(x,y-40),(x+w,y),rect_color_dict[label],-1)\n",
    "        cv2.putText(img,text_dict[label],(x,y-10),cv2.FONT_HERSHEY_SIMPLEX,0.8,(0,0,0),2)\n",
    "#         if (label==1):\n",
    "#             message='Subject: {}\\n\\n{}'.format(SUBJECT,TEXT)\n",
    "#             mail=smtplib.SMTP('smtp.gmail.com',587)\n",
    "#             mail.ehlo()\n",
    "#             mail.starttls()\n",
    "#             mail.login('lizzy.darcy.harry.potter@gmail.com','prideandprejudice')\n",
    "#             mail.sendmail('tahseena.mahmud@gmail.com','lizzy.darcy.harry.potter@gmail.com',message)\n",
    "#         else:\n",
    "#             pass\n",
    "#             break\n",
    "    cv2.imshow('CCTV',img)\n",
    "    key=cv2.waitKey(1)\n",
    "    if(key==27):\n",
    "        break\n",
    "\n",
    "cap.release()\n",
    "cv2.destroyAllWindows()"
   ]
  },
  {
   "cell_type": "code",
   "execution_count": null,
   "metadata": {},
   "outputs": [],
   "source": []
  }
 ],
 "metadata": {
  "kernelspec": {
   "display_name": "Python 3",
   "language": "python",
   "name": "python3"
  },
  "language_info": {
   "codemirror_mode": {
    "name": "ipython",
    "version": 3
   },
   "file_extension": ".py",
   "mimetype": "text/x-python",
   "name": "python",
   "nbconvert_exporter": "python",
   "pygments_lexer": "ipython3",
   "version": "3.7.6"
  }
 },
 "nbformat": 4,
 "nbformat_minor": 4
}
