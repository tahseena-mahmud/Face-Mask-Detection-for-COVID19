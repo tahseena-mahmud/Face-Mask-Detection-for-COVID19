{
  "nbformat": 4,
  "nbformat_minor": 0,
  "metadata": {
    "colab": {
      "name": "Face Mask Detection Training on Google COLAB part.ipynb",
      "provenance": [],
      "collapsed_sections": []
    },
    "kernelspec": {
      "name": "python3",
      "display_name": "Python 3"
    }
  },
  "cells": [
    {
      "cell_type": "code",
      "metadata": {
        "id": "WTX8pYk-ogGx"
      },
      "source": [
        "!pip install tensorflow==2.1.0"
      ],
      "execution_count": null,
      "outputs": []
    },
    {
      "cell_type": "code",
      "metadata": {
        "id": "3abG9JkYQnC9"
      },
      "source": [
        "pip install --upgrade tensorflow"
      ],
      "execution_count": null,
      "outputs": []
    },
    {
      "cell_type": "code",
      "metadata": {
        "id": "oLHo4lNpyt9J",
        "outputId": "dd6ed85c-d37a-4639-e9bc-b53bcc5012da",
        "colab": {
          "base_uri": "https://localhost:8080/",
          "height": 221
        }
      },
      "source": [
        "!apt-get install -y -qq software-properties-common python-software-properties module-init-tools\n",
        "!add-apt-repository -y ppa:alessandro-strada/ppa 2>&1 > /dev/null\n",
        "!apt-get update -qq 2>&1 > /dev/null\n",
        "!apt-get -y install -qq google-drive-ocamlfuse fuse\n",
        "from google.colab import auth\n",
        "auth.authenticate_user()\n",
        "from oauth2client.client import GoogleCredentials\n",
        "creds=GoogleCredentials.get_application_default()\n",
        "import getpass\n",
        "!google-drive-ocamlfuse -headless -id={creds.client_id} -secret={creds.client_secret} < /dev/null 2>&1 | grep URL\n",
        "vcode=getpass.getpass()\n",
        "!echo {vcode} | google-drive-ocamlfuse -headless -id={creds.client_id} -secret={creds.client_secret}\n"
      ],
      "execution_count": null,
      "outputs": [
        {
          "output_type": "stream",
          "text": [
            "E: Package 'python-software-properties' has no installation candidate\n",
            "Selecting previously unselected package google-drive-ocamlfuse.\n",
            "(Reading database ... 144676 files and directories currently installed.)\n",
            "Preparing to unpack .../google-drive-ocamlfuse_0.7.22-0ubuntu3~ubuntu18.04.1_amd64.deb ...\n",
            "Unpacking google-drive-ocamlfuse (0.7.22-0ubuntu3~ubuntu18.04.1) ...\n",
            "Setting up google-drive-ocamlfuse (0.7.22-0ubuntu3~ubuntu18.04.1) ...\n",
            "Processing triggers for man-db (2.8.3-2ubuntu0.1) ...\n",
            "Please, open the following URL in a web browser: https://accounts.google.com/o/oauth2/auth?client_id=32555940559.apps.googleusercontent.com&redirect_uri=urn%3Aietf%3Awg%3Aoauth%3A2.0%3Aoob&scope=https%3A%2F%2Fwww.googleapis.com%2Fauth%2Fdrive&response_type=code&access_type=offline&approval_prompt=force\n",
            "··········\n",
            "Please, open the following URL in a web browser: https://accounts.google.com/o/oauth2/auth?client_id=32555940559.apps.googleusercontent.com&redirect_uri=urn%3Aietf%3Awg%3Aoauth%3A2.0%3Aoob&scope=https%3A%2F%2Fwww.googleapis.com%2Fauth%2Fdrive&response_type=code&access_type=offline&approval_prompt=force\n",
            "Please enter the verification code: Access token retrieved correctly.\n"
          ],
          "name": "stdout"
        }
      ]
    },
    {
      "cell_type": "code",
      "metadata": {
        "id": "_W4t76SL3RWX",
        "outputId": "ba4a25fe-a837-4f52-95bc-6de580a945d1",
        "colab": {
          "base_uri": "https://localhost:8080/",
          "height": 33
        }
      },
      "source": [
        "from google.colab import drive\n",
        "drive.mount('/content/drive')"
      ],
      "execution_count": null,
      "outputs": [
        {
          "output_type": "stream",
          "text": [
            "Mounted at /content/drive\n"
          ],
          "name": "stdout"
        }
      ]
    },
    {
      "cell_type": "code",
      "metadata": {
        "id": "j13clsig4yJ8",
        "outputId": "4430dec6-65cd-4000-f5b5-48affcca6775",
        "colab": {
          "base_uri": "https://localhost:8080/",
          "height": 33
        }
      },
      "source": [
        "import os\n",
        "os.chdir(\"/content/drive/My Drive/CSE583/\")\n",
        "Dataset='Data'\n",
        "Data_Dir=os.listdir(Dataset)\n",
        "print(Data_Dir)"
      ],
      "execution_count": null,
      "outputs": [
        {
          "output_type": "stream",
          "text": [
            "['with_mask', 'without_mask']\n"
          ],
          "name": "stdout"
        }
      ]
    },
    {
      "cell_type": "code",
      "metadata": {
        "id": "Xmvj00N06o3v"
      },
      "source": [
        "import cv2\n",
        "import numpy as np\n",
        "from tensorflow.keras.utils import to_categorical\n",
        "from sklearn.preprocessing import LabelBinarizer\n",
        "from sklearn.model_selection import train_test_split\n",
        "\n",
        "img_rows,img_cols=112,112\n",
        "\n",
        "images=[]\n",
        "labels=[]\n",
        "\n",
        "for category in Data_Dir:\n",
        "  folder_path=os.path.join(Dataset,category)\n",
        "  for img in os.listdir(folder_path):\n",
        "    img_path=os.path.join(folder_path,img)\n",
        "    img=cv2.imread(img_path)\n",
        "    try:\n",
        "      grayscale_img=cv2.cvtColor(img,cv2.COLOR_BGR2GRAY)\n",
        "      resized_img=cv2.resize(grayscale_img,(img_rows,img_cols))\n",
        "      images.append(resized_img)\n",
        "      labels.append(category)\n",
        "    except Exception as e:\n",
        "      print('Exception:',e)\n",
        "\n",
        "images=np.array(images)/255.0\n",
        "images=np.reshape(images,(images.shape[0],img_rows,img_cols,1))\n",
        "\n",
        "lb=LabelBinarizer()\n",
        "labels=lb.fit_transform(labels)\n",
        "labels=to_categorical(labels)\n",
        "labels=np.array(labels)\n",
        "\n",
        "(train_X,test_X,train_y,test_y)=train_test_split(images,labels,test_size=0.25,random_state=0)\n"
      ],
      "execution_count": null,
      "outputs": []
    },
    {
      "cell_type": "code",
      "metadata": {
        "id": "J2HlPVzvtWFE",
        "outputId": "e01c3346-77c0-40e5-eda9-79300d64244e",
        "colab": {
          "base_uri": "https://localhost:8080/",
          "height": 35
        }
      },
      "source": [
        "import tensorflow as tf \n",
        "tf.__version__"
      ],
      "execution_count": null,
      "outputs": [
        {
          "output_type": "execute_result",
          "data": {
            "application/vnd.google.colaboratory.intrinsic+json": {
              "type": "string"
            },
            "text/plain": [
              "'2.3.0'"
            ]
          },
          "metadata": {
            "tags": []
          },
          "execution_count": 9
        }
      ]
    },
    {
      "cell_type": "code",
      "metadata": {
        "id": "1iOnNj8q_YVm",
        "outputId": "622f7b21-6c54-4afb-a6bd-76af9f8ccfdf",
        "colab": {
          "base_uri": "https://localhost:8080/",
          "height": 502
        }
      },
      "source": [
        "import tensorflow as tf\n",
        "from tensorflow.keras.models import Sequential\n",
        "from tensorflow.keras.layers import Dense, Activation, Flatten, Dropout\n",
        "from tensorflow.keras.layers import Conv2D, MaxPooling2D\n",
        "\n",
        "num_classes=2\n",
        "batch_size=32\n",
        "model=Sequential()\n",
        "\n",
        "model.add(Conv2D(64,(3,3),input_shape=(img_rows,img_cols,1)))\n",
        "model.add(Activation('relu'))\n",
        "model.add(MaxPooling2D(pool_size=(2,2)))\n",
        "\n",
        "model.add(Conv2D(128,(3,3)))\n",
        "model.add(Activation('relu'))\n",
        "model.add(MaxPooling2D(pool_size=(2,2)))\n",
        "\n",
        "model.add(Flatten())\n",
        "model.add(Dropout(0.5))\n",
        "model.add(Dense(64,activation='relu'))\n",
        "model.add(Dense(num_classes,activation='softmax'))\n",
        "print(model.summary())\n"
      ],
      "execution_count": null,
      "outputs": [
        {
          "output_type": "stream",
          "text": [
            "Model: \"sequential\"\n",
            "_________________________________________________________________\n",
            "Layer (type)                 Output Shape              Param #   \n",
            "=================================================================\n",
            "conv2d (Conv2D)              (None, 110, 110, 64)      640       \n",
            "_________________________________________________________________\n",
            "activation (Activation)      (None, 110, 110, 64)      0         \n",
            "_________________________________________________________________\n",
            "max_pooling2d (MaxPooling2D) (None, 55, 55, 64)        0         \n",
            "_________________________________________________________________\n",
            "conv2d_1 (Conv2D)            (None, 53, 53, 128)       73856     \n",
            "_________________________________________________________________\n",
            "activation_1 (Activation)    (None, 53, 53, 128)       0         \n",
            "_________________________________________________________________\n",
            "max_pooling2d_1 (MaxPooling2 (None, 26, 26, 128)       0         \n",
            "_________________________________________________________________\n",
            "flatten (Flatten)            (None, 86528)             0         \n",
            "_________________________________________________________________\n",
            "dropout (Dropout)            (None, 86528)             0         \n",
            "_________________________________________________________________\n",
            "dense (Dense)                (None, 64)                5537856   \n",
            "_________________________________________________________________\n",
            "dense_1 (Dense)              (None, 2)                 130       \n",
            "=================================================================\n",
            "Total params: 5,612,482\n",
            "Trainable params: 5,612,482\n",
            "Non-trainable params: 0\n",
            "_________________________________________________________________\n",
            "None\n"
          ],
          "name": "stdout"
        }
      ]
    },
    {
      "cell_type": "code",
      "metadata": {
        "id": "5tLNteVDzzxO",
        "outputId": "c73141b1-2ae3-4228-fb17-0380dee1e5d4",
        "colab": {
          "base_uri": "https://localhost:8080/",
          "height": 33
        }
      },
      "source": [
        "len(model.layers)"
      ],
      "execution_count": null,
      "outputs": [
        {
          "output_type": "execute_result",
          "data": {
            "text/plain": [
              "10"
            ]
          },
          "metadata": {
            "tags": []
          },
          "execution_count": 8
        }
      ]
    },
    {
      "cell_type": "code",
      "metadata": {
        "id": "5EoT1NndCkXR",
        "outputId": "2ae21603-2986-49bc-ada8-c7c3d725ca1e",
        "colab": {
          "base_uri": "https://localhost:8080/",
          "height": 1000
        }
      },
      "source": [
        "import tensorflow as tf\n",
        "from keras.utils.vis_utils import plot_model\n",
        "plot_model(model,to_file='face_mask_detection_flowchart.png')"
      ],
      "execution_count": null,
      "outputs": [
        {
          "output_type": "execute_result",
          "data": {
            "image/png": "[encoded data removed]",
            "text/plain": [
              "<IPython.core.display.Image object>"
            ]
          },
          "metadata": {
            "tags": []
          },
          "execution_count": 9
        }
      ]
    },
    {
      "cell_type": "code",
      "metadata": {
        "id": "umosusq9DZIH",
        "outputId": "8487acf2-b7cd-44b7-d0a4-4e4f11e83b95",
        "colab": {
          "base_uri": "https://localhost:8080/",
          "height": 1000
        }
      },
      "source": [
        "import tensorflow as tf\n",
        "from tensorflow.keras.optimizers import Adam\n",
        "from tensorflow.keras.callbacks import EarlyStopping\n",
        "from tensorflow.keras.callbacks import ModelCheckpoint\n",
        "\n",
        "model.compile(loss='categorical_crossentropy',optimizer=Adam(lr=0.001),metrics=['accuracy'])\n",
        "es = EarlyStopping(monitor='val_loss', mode='min', verbose=1, patience=40)\n",
        "mc = ModelCheckpoint('best_model.h5', monitor='val_accuracy', mode='max', verbose=1, save_best_only=True)\n",
        "fitted_model=model.fit(train_X,train_y,epochs=1000,validation_split=0.25, verbose=0, callbacks=[es, mc])"
      ],
      "execution_count": null,
      "outputs": [
        {
          "output_type": "stream",
          "text": [
            "\n",
            "Epoch 00001: val_accuracy improved from -inf to 0.60721, saving model to best_model.h5\n",
            "\n",
            "Epoch 00002: val_accuracy improved from 0.60721 to 0.82766, saving model to best_model.h5\n",
            "\n",
            "Epoch 00003: val_accuracy improved from 0.82766 to 0.84369, saving model to best_model.h5\n",
            "\n",
            "Epoch 00004: val_accuracy improved from 0.84369 to 0.89178, saving model to best_model.h5\n",
            "\n",
            "Epoch 00005: val_accuracy did not improve from 0.89178\n",
            "\n",
            "Epoch 00006: val_accuracy improved from 0.89178 to 0.92585, saving model to best_model.h5\n",
            "\n",
            "Epoch 00007: val_accuracy improved from 0.92585 to 0.93587, saving model to best_model.h5\n",
            "\n",
            "Epoch 00008: val_accuracy did not improve from 0.93587\n",
            "\n",
            "Epoch 00009: val_accuracy improved from 0.93587 to 0.93988, saving model to best_model.h5\n",
            "\n",
            "Epoch 00010: val_accuracy did not improve from 0.93988\n",
            "\n",
            "Epoch 00011: val_accuracy did not improve from 0.93988\n",
            "\n",
            "Epoch 00012: val_accuracy did not improve from 0.93988\n",
            "\n",
            "Epoch 00013: val_accuracy did not improve from 0.93988\n",
            "\n",
            "Epoch 00014: val_accuracy did not improve from 0.93988\n",
            "\n",
            "Epoch 00015: val_accuracy did not improve from 0.93988\n",
            "\n",
            "Epoch 00016: val_accuracy improved from 0.93988 to 0.94188, saving model to best_model.h5\n",
            "\n",
            "Epoch 00017: val_accuracy did not improve from 0.94188\n",
            "\n",
            "Epoch 00018: val_accuracy did not improve from 0.94188\n",
            "\n",
            "Epoch 00019: val_accuracy did not improve from 0.94188\n",
            "\n",
            "Epoch 00020: val_accuracy did not improve from 0.94188\n",
            "\n",
            "Epoch 00021: val_accuracy improved from 0.94188 to 0.95190, saving model to best_model.h5\n",
            "\n",
            "Epoch 00022: val_accuracy did not improve from 0.95190\n",
            "\n",
            "Epoch 00023: val_accuracy did not improve from 0.95190\n",
            "\n",
            "Epoch 00024: val_accuracy did not improve from 0.95190\n",
            "\n",
            "Epoch 00025: val_accuracy did not improve from 0.95190\n",
            "\n",
            "Epoch 00026: val_accuracy did not improve from 0.95190\n",
            "\n",
            "Epoch 00027: val_accuracy did not improve from 0.95190\n",
            "\n",
            "Epoch 00028: val_accuracy did not improve from 0.95190\n",
            "\n",
            "Epoch 00029: val_accuracy did not improve from 0.95190\n",
            "\n",
            "Epoch 00030: val_accuracy did not improve from 0.95190\n",
            "\n",
            "Epoch 00031: val_accuracy did not improve from 0.95190\n",
            "\n",
            "Epoch 00032: val_accuracy did not improve from 0.95190\n",
            "\n",
            "Epoch 00033: val_accuracy did not improve from 0.95190\n",
            "\n",
            "Epoch 00034: val_accuracy did not improve from 0.95190\n",
            "\n",
            "Epoch 00035: val_accuracy did not improve from 0.95190\n",
            "\n",
            "Epoch 00036: val_accuracy did not improve from 0.95190\n",
            "\n",
            "Epoch 00037: val_accuracy did not improve from 0.95190\n",
            "\n",
            "Epoch 00038: val_accuracy did not improve from 0.95190\n",
            "\n",
            "Epoch 00039: val_accuracy did not improve from 0.95190\n",
            "\n",
            "Epoch 00040: val_accuracy did not improve from 0.95190\n",
            "\n",
            "Epoch 00041: val_accuracy did not improve from 0.95190\n",
            "\n",
            "Epoch 00042: val_accuracy did not improve from 0.95190\n",
            "\n",
            "Epoch 00043: val_accuracy did not improve from 0.95190\n",
            "\n",
            "Epoch 00044: val_accuracy did not improve from 0.95190\n",
            "\n",
            "Epoch 00045: val_accuracy did not improve from 0.95190\n",
            "\n",
            "Epoch 00046: val_accuracy did not improve from 0.95190\n",
            "\n",
            "Epoch 00047: val_accuracy did not improve from 0.95190\n",
            "\n",
            "Epoch 00048: val_accuracy did not improve from 0.95190\n",
            "\n",
            "Epoch 00049: val_accuracy did not improve from 0.95190\n",
            "\n",
            "Epoch 00050: val_accuracy did not improve from 0.95190\n",
            "\n",
            "Epoch 00051: val_accuracy did not improve from 0.95190\n",
            "\n",
            "Epoch 00052: val_accuracy did not improve from 0.95190\n",
            "\n",
            "Epoch 00053: val_accuracy did not improve from 0.95190\n",
            "\n",
            "Epoch 00054: val_accuracy did not improve from 0.95190\n",
            "\n",
            "Epoch 00055: val_accuracy did not improve from 0.95190\n",
            "\n",
            "Epoch 00056: val_accuracy did not improve from 0.95190\n",
            "\n",
            "Epoch 00057: val_accuracy did not improve from 0.95190\n",
            "Epoch 00057: early stopping\n"
          ],
          "name": "stdout"
        }
      ]
    },
    {
      "cell_type": "code",
      "metadata": {
        "id": "qkgci9YhD_VK",
        "outputId": "85958b0f-5e29-4954-afe8-12b638fc1d9a",
        "colab": {
          "base_uri": "https://localhost:8080/",
          "height": 541
        }
      },
      "source": [
        "\n",
        "from matplotlib import pyplot as plt\n",
        "plt.plot(fitted_model.history['loss'],'r',label='training loss')\n",
        "plt.plot(fitted_model.history['val_loss'],label='validation loss')\n",
        "plt.xlabel('Number of Epochs')\n",
        "plt.ylabel('Loss Value')\n",
        "plt.legend()\n",
        "plt.show()\n",
        "\n",
        "plt.plot(fitted_model.history['accuracy'],'r',label='training accuracy')\n",
        "plt.plot(fitted_model.history['val_accuracy'],label='validation accuracy')\n",
        "plt.xlabel('Number of Epochs')\n",
        "plt.ylabel('Accuracy Value')\n",
        "plt.legend()\n",
        "plt.show()"
      ],
      "execution_count": null,
      "outputs": [
        {
          "output_type": "display_data",
          "data": {
            "image/png": "[encoded data removed]",
            "text/plain": [
              "<Figure size 432x288 with 1 Axes>"
            ]
          },
          "metadata": {
            "tags": [],
            "needs_background": "light"
          }
        },
        {
          "output_type": "display_data",
          "data": {
            "image/png": "[encoded data removed]",
            "text/plain": [
              "<Figure size 432x288 with 1 Axes>"
            ]
          },
          "metadata": {
            "tags": [],
            "needs_background": "light"
          }
        }
      ]
    },
    {
      "cell_type": "code",
      "metadata": {
        "id": "A632rLbBa6qN",
        "outputId": "ba157a1f-309f-4835-b722-81755da2ee87",
        "colab": {
          "base_uri": "https://localhost:8080/",
          "height": 33
        }
      },
      "source": [
        "layer_names = [] \n",
        "\n",
        "for layer in model.layers[:10]: \n",
        "  layer_names.append(layer.name) \n",
        "print(layer_names) "
      ],
      "execution_count": null,
      "outputs": [
        {
          "output_type": "stream",
          "text": [
            "['conv2d', 'activation', 'max_pooling2d', 'conv2d_1', 'activation_1', 'max_pooling2d_1', 'flatten', 'dropout', 'dense', 'dense_1']\n"
          ],
          "name": "stdout"
        }
      ]
    },
    {
      "cell_type": "code",
      "metadata": {
        "id": "FDLxCjF3WXq0"
      },
      "source": [
        ""
      ],
      "execution_count": null,
      "outputs": []
    },
    {
      "cell_type": "code",
      "metadata": {
        "id": "jJD-xNcVFK6W"
      },
      "source": [
        ""
      ],
      "execution_count": null,
      "outputs": []
    }
  ]
}